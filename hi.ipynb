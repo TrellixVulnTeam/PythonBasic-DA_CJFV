{
 "cells": [
  {
   "cell_type": "code",
   "execution_count": 38,
   "metadata": {},
   "outputs": [
    {
     "name": "stdout",
     "output_type": "stream",
     "text": [
      "helo\n"
     ]
    }
   ],
   "source": [
    "def myfunction(x):\n",
    "    print(x)\n",
    "myfunction('helo')"
   ]
  },
  {
   "cell_type": "code",
   "execution_count": 39,
   "metadata": {},
   "outputs": [
    {
     "name": "stdout",
     "output_type": "stream",
     "text": [
      "10\n",
      "python is fun\n",
      "True\n"
     ]
    }
   ],
   "source": [
    "x = 10\n",
    "y = \"python is fun\"\n",
    "z = 144**0.5==12\n",
    "print(x)\n",
    "print(y)\n",
    "print(z)"
   ]
  },
  {
   "cell_type": "code",
   "execution_count": 40,
   "metadata": {},
   "outputs": [
    {
     "name": "stdout",
     "output_type": "stream",
     "text": [
      "Helo\n",
      "HELO\n"
     ]
    }
   ],
   "source": [
    "x = \"Helo\"\n",
    "y=x\n",
    "y=y.upper()\n",
    "print(x)\n",
    "print(y)"
   ]
  },
  {
   "cell_type": "code",
   "execution_count": 54,
   "metadata": {},
   "outputs": [
    {
     "name": "stdout",
     "output_type": "stream",
     "text": [
      "[1, 2, 3]\n",
      "[1, 2, 3, 4]\n"
     ]
    }
   ],
   "source": [
    "x = [1,2,3]\n",
    "print(x)\n",
    "y=x\n",
    "y.append(4)\n",
    "print(y)"
   ]
  },
  {
   "cell_type": "code",
   "execution_count": 42,
   "metadata": {},
   "outputs": [
    {
     "name": "stdout",
     "output_type": "stream",
     "text": [
      "['Lesson', 5, 'Is Fun', True]\n"
     ]
    }
   ],
   "source": [
    "my_list = [\"Lesson\", 5, \"Is Fun\", True]\n",
    "print(my_list)"
   ]
  },
  {
   "cell_type": "code",
   "execution_count": 48,
   "metadata": {},
   "outputs": [
    {
     "name": "stdout",
     "output_type": "stream",
     "text": [
      "['Helo Im Long']\n"
     ]
    }
   ],
   "source": [
    "second_list=[]\n",
    "second_list.append(\"Helo Im Long\")\n",
    "print(second_list)"
   ]
  },
  {
   "cell_type": "code",
   "execution_count": 64,
   "metadata": {},
   "outputs": [
    {
     "name": "stdout",
     "output_type": "stream",
     "text": [
      "5\n",
      "9\n",
      "1\n",
      "25\n",
      "5.0\n"
     ]
    },
    {
     "data": {
      "text/plain": [
       "1"
      ]
     },
     "execution_count": 64,
     "metadata": {},
     "output_type": "execute_result"
    }
   ],
   "source": [
    "num_list = [1,3,5,7,9]\n",
    "print(len(num_list))\n",
    "print(max(num_list))\n",
    "print(min(num_list))\n",
    "print(sum(num_list))\n",
    "print(sum(num_list)/len(num_list))\n",
    "num_list.count(3) #dem so lan xuat hien"
   ]
  },
  {
   "cell_type": "code",
   "execution_count": 73,
   "metadata": {},
   "outputs": [
    {
     "name": "stdout",
     "output_type": "stream",
     "text": [
      "Reversed list [7, 8, 6, 3, 5, 2, 1]\n",
      "Sort list [8, 7, 6, 5, 3, 2, 1]\n"
     ]
    }
   ],
   "source": [
    "new_list = [1,2,5,3,6,8,7]\n",
    "new_list.reverse()\n",
    "print(\"Reversed list\", new_list)\n",
    "new_list.sort(reverse=True)\n",
    "print(\"Sort list\", new_list)"
   ]
  },
  {
   "cell_type": "code",
   "execution_count": 134,
   "metadata": {},
   "outputs": [
    {
     "name": "stdout",
     "output_type": "stream",
     "text": [
      "Helo\n",
      "Long\n",
      "haha\n"
     ]
    }
   ],
   "source": [
    "another_list=[\"Helo\",\"Im\",\"Long\",\"Handsome\",\"haha\",\"a\",\"b\"]\n",
    "print(another_list[0])\n",
    "print(another_list[2])\n",
    "print(another_list[-3])\n"
   ]
  },
  {
   "cell_type": "code",
   "execution_count": 81,
   "metadata": {},
   "outputs": [
    {
     "name": "stdout",
     "output_type": "stream",
     "text": [
      "6\n"
     ]
    }
   ],
   "source": [
    "nested_list=[[1,2,3],[4,5,6],[7,8,9]]\n",
    "print(nested_list[1][2])\n",
    "# vi tri 1, ô thứ 2"
   ]
  },
  {
   "cell_type": "markdown",
   "metadata": {},
   "source": [
    "a[start:stop]  # items start through stop-1\n",
    "a[start:]      # items start through the rest of the array\n",
    "a[:stop]       # items from the beginning through stop-1\n",
    "a[:]           # a copy of the whole array"
   ]
  },
  {
   "cell_type": "code",
   "execution_count": 136,
   "metadata": {},
   "outputs": [
    {
     "name": "stdout",
     "output_type": "stream",
     "text": [
      "['Im', 'Long']\n",
      "['Helo', 'Im']\n",
      "['Long', 'Handsome', 'haha', 'a', 'b']\n",
      "['Im', 'Handsome']\n"
     ]
    }
   ],
   "source": [
    "my_slice=another_list[1:3]\n",
    "print(my_slice)\n",
    "my_slice1=another_list[:2]\n",
    "print(my_slice1)\n",
    "my_slice2=another_list[2:]\n",
    "print(my_slice2)\n",
    "my_slice3=another_list[1:5:2] # từ 1 đến 4, sau đó xét khoảng 1 đến 5, lấy vị trí 2\n",
    "print(my_slice3)"
   ]
  },
  {
   "cell_type": "code",
   "execution_count": 137,
   "metadata": {},
   "outputs": [
    {
     "name": "stdout",
     "output_type": "stream",
     "text": [
      "['b', 'a', 'haha', 'Handsome', 'Long', 'Im', 'Helo']\n"
     ]
    }
   ],
   "source": [
    "my_slice=another_list[::-1]\n",
    "print(my_slice)"
   ]
  },
  {
   "cell_type": "code",
   "execution_count": 158,
   "metadata": {},
   "outputs": [
    {
     "name": "stdout",
     "output_type": "stream",
     "text": [
      "[1, 2, 3, 4, 5, 6, 7]\n",
      "2\n",
      "[1, 3, 4, 5, 6, 7]\n"
     ]
    }
   ],
   "source": [
    "another_list=[1,2,3,4,5,6,7]\n",
    "print(another_list)\n",
    "next_itemm=another_list.pop(1)\n",
    "print(next_itemm)\n",
    "print(another_list)"
   ]
  },
  {
   "cell_type": "code",
   "execution_count": 159,
   "metadata": {},
   "outputs": [
    {
     "name": "stdout",
     "output_type": "stream",
     "text": [
      "Lst1 [1, 2, 3, 4]\n",
      "Lst2 [1, 2, 3]\n"
     ]
    }
   ],
   "source": [
    "list1 = [1,2,3]\n",
    "list2 = list1.copy()\n",
    "list1.append(4)\n",
    "print(\"Lst1\", list1)\n",
    "print(\"Lst2\", list2)"
   ]
  },
  {
   "cell_type": "code",
   "execution_count": 163,
   "metadata": {},
   "outputs": [
    {
     "name": "stdout",
     "output_type": "stream",
     "text": [
      "Before appending to list1\n",
      "List2: ['List within a list', [1, 2, 3]]\n",
      "List3: ['List within a list', [1, 2, 3]]\n",
      "After appending to list1\n",
      "List2: ['List within a list', [1, 2, 3, 4]]\n",
      "List3: ['List within a list', [1, 2, 3, 4]]\n"
     ]
    }
   ],
   "source": [
    "list1 = [1,2,3]\n",
    "list2 = [\"List within a list\", list1]\n",
    "list3 = list2.copy()\n",
    "print(\"Before appending to list1\")\n",
    "print(\"List2:\",list2)\n",
    "print(\"List3:\",list3)\n",
    "print(\"After appending to list1\")\n",
    "list1.append(4)\n",
    "print(\"List2:\",list2)\n",
    "print(\"List3:\",list3)"
   ]
  },
  {
   "cell_type": "code",
   "execution_count": 165,
   "metadata": {},
   "outputs": [
    {
     "name": "stdout",
     "output_type": "stream",
     "text": [
      "[1, 2, 3]\n",
      "[1, 2, 3]\n",
      "[1, 2, 3, 4]\n"
     ]
    }
   ],
   "source": [
    "import copy\n",
    "list1 = [1,2,3]\n",
    "list2 = copy.deepcopy(list1) #sao chép y như ban đầu, ko thay đổi\n",
    "list3 = list1\n",
    "print(list2)\n",
    "list1.append(4)\n",
    "print(list2)\n",
    "print(list3)"
   ]
  },
  {
   "cell_type": "code",
   "execution_count": 166,
   "metadata": {},
   "outputs": [
    {
     "name": "stdout",
     "output_type": "stream",
     "text": [
      "(1, 3, 5)\n"
     ]
    }
   ],
   "source": [
    "my_tuple = (1,3,5)\n",
    "print(my_tuple)"
   ]
  },
  {
   "cell_type": "code",
   "execution_count": 169,
   "metadata": {},
   "outputs": [
    {
     "name": "stdout",
     "output_type": "stream",
     "text": [
      "(2, 4, 6, 1)\n"
     ]
    },
    {
     "data": {
      "text/plain": [
       "(6, 1)"
      ]
     },
     "execution_count": 169,
     "metadata": {},
     "output_type": "execute_result"
    }
   ],
   "source": [
    "# convert từ list sang tuples\n",
    "# cant append and del from tuples\n",
    "my_lst = [2,4,6,1]\n",
    "my_tuples = tuple(my_lst)\n",
    "print(my_tuples)\n",
    "my_tuples[2]\n",
    "my_tuples[2:4]"
   ]
  },
  {
   "cell_type": "code",
   "execution_count": 187,
   "metadata": {},
   "outputs": [
    {
     "name": "stdout",
     "output_type": "stream",
     "text": [
      "['I am', 'a multiline', 'string!']\n"
     ]
    }
   ],
   "source": [
    "multiline_string = \"\"\"I am\n",
    "a multiline\n",
    "string!\n",
    "\"\"\"\n",
    "print(multiline_string.splitlines())"
   ]
  },
  {
   "cell_type": "code",
   "execution_count": 202,
   "metadata": {},
   "outputs": [
    {
     "data": {
      "text/plain": [
       "'uyNow'"
      ]
     },
     "execution_count": 202,
     "metadata": {},
     "output_type": "execute_result"
    }
   ],
   "source": [
    "\"xXxxBuyNowBxxxXX\".strip(\"XxB\")"
   ]
  },
  {
   "cell_type": "code",
   "execution_count": 205,
   "metadata": {},
   "outputs": [
    {
     "data": {
      "text/plain": [
       "'Helo can I join'"
      ]
     },
     "execution_count": 205,
     "metadata": {},
     "output_type": "execute_result"
    }
   ],
   "source": [
    "\" \".join([\"Helo\", \"can\", \"I\", \"join\"])"
   ]
  },
  {
   "cell_type": "code",
   "execution_count": 232,
   "metadata": {},
   "outputs": [
    {
     "name": "stdout",
     "output_type": "stream",
     "text": [
      "My name is Long and I am 22 year old\n"
     ]
    },
    {
     "data": {
      "text/plain": [
       "'My name is Long and I am 22 year old'"
      ]
     },
     "execution_count": 232,
     "metadata": {},
     "output_type": "execute_result"
    }
   ],
   "source": [
    "name=\"Long\"\n",
    "age=22\n",
    "print(f\"My name is {name} and I am {age} year old\")\n",
    "template_string=(\"My name is {} and I am {} year old\")\n",
    "template_string.format(name, age)\n"
   ]
  },
  {
   "cell_type": "code",
   "execution_count": 238,
   "metadata": {},
   "outputs": [
    {
     "name": "stdout",
     "output_type": "stream",
     "text": [
      "{'Name': 'Long', 'age': 22, 'city': 'HCM'}\n"
     ]
    }
   ],
   "source": [
    "my_dict = {\n",
    "    \"Name\":\"Long\",\n",
    "    \"age\": 22,\n",
    "    \"city\":\"HCM\"\n",
    "}\n",
    "print(my_dict)\n"
   ]
  },
  {
   "cell_type": "code",
   "execution_count": 239,
   "metadata": {},
   "outputs": [
    {
     "name": "stdout",
     "output_type": "stream",
     "text": [
      "{'Name': 'Long', 'age': 22, 'city': 'HCM', 'Gender:': 'Male'}\n"
     ]
    }
   ],
   "source": [
    "my_dict[\"Name\"]\n",
    "my_dict[\"Gender:\"] = \"Male\"\n",
    "print(my_dict)"
   ]
  },
  {
   "cell_type": "code",
   "execution_count": 243,
   "metadata": {},
   "outputs": [
    {
     "name": "stdout",
     "output_type": "stream",
     "text": [
      "dict_keys(['Name', 'age', 'city', 'Gender:'])\n",
      "dict_values(['Long', 22, 'HCM', 'Male'])\n",
      "dict_items([('Name', 'Long'), ('age', 22), ('city', 'HCM'), ('Gender:', 'Male')])\n"
     ]
    }
   ],
   "source": [
    "print(my_dict.keys())\n",
    "print(my_dict.values())\n",
    "print(my_dict.items())"
   ]
  },
  {
   "cell_type": "code",
   "execution_count": 250,
   "metadata": {},
   "outputs": [
    {
     "name": "stdout",
     "output_type": "stream",
     "text": [
      "    name  age   city\n",
      "0    Joe   18  Tokyo\n",
      "1    Bob   20    HCM\n",
      "2  Harry   21     NY\n"
     ]
    }
   ],
   "source": [
    "import pandas as pd\n",
    "my_table_dict = {\n",
    "    \"name\":[\"Joe\",\"Bob\",\"Harry\"],\n",
    "    \"age\":[18,20,21],\n",
    "    \"city\":[\"Tokyo\",\"HCM\",\"NY\"]\n",
    "}\n",
    "df = pd.DataFrame(my_table_dict)\n",
    "print(df)"
   ]
  },
  {
   "cell_type": "code",
   "execution_count": 262,
   "metadata": {},
   "outputs": [
    {
     "name": "stdout",
     "output_type": "stream",
     "text": [
      "{1, 2, 3, 4, 5}\n",
      "{1, 2, 3, 4, 5}\n",
      "{1, 2}\n",
      "{3, 4, 5}\n",
      "False\n",
      "True\n"
     ]
    }
   ],
   "source": [
    "my_set1 = {1,2,3,3,4,5}\n",
    "set2 = {1,2}\n",
    "print(my_set1)\n",
    "print(my_set1.union())\n",
    "print(my_set1.intersection(set2))\n",
    "print(my_set1.difference(set2))\n",
    "print(my_set1.issubset(set2))\n",
    "print(set2.issubset(my_set1))"
   ]
  },
  {
   "cell_type": "code",
   "execution_count": 259,
   "metadata": {},
   "outputs": [
    {
     "data": {
      "text/plain": [
       "{1, 2, 3, 4, 5, 6, 7}"
      ]
     },
     "execution_count": 259,
     "metadata": {},
     "output_type": "execute_result"
    }
   ],
   "source": [
    "myList = [1,1,2,2,3,4,5,6,6,7]\n",
    "set(myList)"
   ]
  },
  {
   "cell_type": "code",
   "execution_count": 261,
   "metadata": {},
   "outputs": [
    {
     "name": "stdout",
     "output_type": "stream",
     "text": [
      "{1, 2, 3, 4}\n"
     ]
    }
   ],
   "source": [
    "myset = {1,2,3,4,3,2}\n",
    "print(myset)"
   ]
  }
 ],
 "metadata": {
  "interpreter": {
   "hash": "1c3dbc0e9c13b4f01e7dabe52d0eac1df88586c1a64e192424b436ee06339f8f"
  },
  "kernelspec": {
   "display_name": "Python 3.9.5 64-bit",
   "language": "python",
   "name": "python3"
  },
  "language_info": {
   "codemirror_mode": {
    "name": "ipython",
    "version": 3
   },
   "file_extension": ".py",
   "mimetype": "text/x-python",
   "name": "python",
   "nbconvert_exporter": "python",
   "pygments_lexer": "ipython3",
   "version": "3.9.5"
  },
  "orig_nbformat": 4
 },
 "nbformat": 4,
 "nbformat_minor": 2
}
